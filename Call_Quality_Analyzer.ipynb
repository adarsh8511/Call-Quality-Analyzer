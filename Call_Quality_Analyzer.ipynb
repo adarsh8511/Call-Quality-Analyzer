{
  "nbformat": 4,
  "nbformat_minor": 0,
  "metadata": {
    "colab": {
      "provenance": [],
      "include_colab_link": true
    },
    "kernelspec": {
      "name": "python3",
      "display_name": "Python 3"
    },
    "language_info": {
      "name": "python"
    }
  },
  "cells": [
    {
      "cell_type": "markdown",
      "metadata": {
        "id": "view-in-github",
        "colab_type": "text"
      },
      "source": [
        "<a href=\"https://colab.research.google.com/github/adarsh8511/Call-Quality-Analyzer/blob/main/Call_Quality_Analyzer.ipynb\" target=\"_parent\"><img src=\"https://colab.research.google.com/assets/colab-badge.svg\" alt=\"Open In Colab\"/></a>"
      ]
    },
    {
      "cell_type": "code",
      "execution_count": null,
      "metadata": {
        "colab": {
          "base_uri": "https://localhost:8080/",
          "height": 229
        },
        "id": "RxWIvMyy_Xsu",
        "outputId": "e5561260-9d0e-451f-c638-ed480abd4cfa"
      },
      "outputs": [
        {
          "output_type": "stream",
          "name": "stderr",
          "text": [
            "[nltk_data] Downloading package punkt to /root/nltk_data...\n",
            "[nltk_data]   Package punkt is already up-to-date!\n"
          ]
        },
        {
          "output_type": "display_data",
          "data": {
            "text/plain": [
              "<IPython.core.display.HTML object>"
            ],
            "text/html": [
              "\n",
              "     <input type=\"file\" id=\"files-605809c9-eabe-4aa0-857f-0f824ff96b2d\" name=\"files[]\" multiple disabled\n",
              "        style=\"border:none\" />\n",
              "     <output id=\"result-605809c9-eabe-4aa0-857f-0f824ff96b2d\">\n",
              "      Upload widget is only available when the cell has been executed in the\n",
              "      current browser session. Please rerun this cell to enable.\n",
              "      </output>\n",
              "      <script>// Copyright 2017 Google LLC\n",
              "//\n",
              "// Licensed under the Apache License, Version 2.0 (the \"License\");\n",
              "// you may not use this file except in compliance with the License.\n",
              "// You may obtain a copy of the License at\n",
              "//\n",
              "//      http://www.apache.org/licenses/LICENSE-2.0\n",
              "//\n",
              "// Unless required by applicable law or agreed to in writing, software\n",
              "// distributed under the License is distributed on an \"AS IS\" BASIS,\n",
              "// WITHOUT WARRANTIES OR CONDITIONS OF ANY KIND, either express or implied.\n",
              "// See the License for the specific language governing permissions and\n",
              "// limitations under the License.\n",
              "\n",
              "/**\n",
              " * @fileoverview Helpers for google.colab Python module.\n",
              " */\n",
              "(function(scope) {\n",
              "function span(text, styleAttributes = {}) {\n",
              "  const element = document.createElement('span');\n",
              "  element.textContent = text;\n",
              "  for (const key of Object.keys(styleAttributes)) {\n",
              "    element.style[key] = styleAttributes[key];\n",
              "  }\n",
              "  return element;\n",
              "}\n",
              "\n",
              "// Max number of bytes which will be uploaded at a time.\n",
              "const MAX_PAYLOAD_SIZE = 100 * 1024;\n",
              "\n",
              "function _uploadFiles(inputId, outputId) {\n",
              "  const steps = uploadFilesStep(inputId, outputId);\n",
              "  const outputElement = document.getElementById(outputId);\n",
              "  // Cache steps on the outputElement to make it available for the next call\n",
              "  // to uploadFilesContinue from Python.\n",
              "  outputElement.steps = steps;\n",
              "\n",
              "  return _uploadFilesContinue(outputId);\n",
              "}\n",
              "\n",
              "// This is roughly an async generator (not supported in the browser yet),\n",
              "// where there are multiple asynchronous steps and the Python side is going\n",
              "// to poll for completion of each step.\n",
              "// This uses a Promise to block the python side on completion of each step,\n",
              "// then passes the result of the previous step as the input to the next step.\n",
              "function _uploadFilesContinue(outputId) {\n",
              "  const outputElement = document.getElementById(outputId);\n",
              "  const steps = outputElement.steps;\n",
              "\n",
              "  const next = steps.next(outputElement.lastPromiseValue);\n",
              "  return Promise.resolve(next.value.promise).then((value) => {\n",
              "    // Cache the last promise value to make it available to the next\n",
              "    // step of the generator.\n",
              "    outputElement.lastPromiseValue = value;\n",
              "    return next.value.response;\n",
              "  });\n",
              "}\n",
              "\n",
              "/**\n",
              " * Generator function which is called between each async step of the upload\n",
              " * process.\n",
              " * @param {string} inputId Element ID of the input file picker element.\n",
              " * @param {string} outputId Element ID of the output display.\n",
              " * @return {!Iterable<!Object>} Iterable of next steps.\n",
              " */\n",
              "function* uploadFilesStep(inputId, outputId) {\n",
              "  const inputElement = document.getElementById(inputId);\n",
              "  inputElement.disabled = false;\n",
              "\n",
              "  const outputElement = document.getElementById(outputId);\n",
              "  outputElement.innerHTML = '';\n",
              "\n",
              "  const pickedPromise = new Promise((resolve) => {\n",
              "    inputElement.addEventListener('change', (e) => {\n",
              "      resolve(e.target.files);\n",
              "    });\n",
              "  });\n",
              "\n",
              "  const cancel = document.createElement('button');\n",
              "  inputElement.parentElement.appendChild(cancel);\n",
              "  cancel.textContent = 'Cancel upload';\n",
              "  const cancelPromise = new Promise((resolve) => {\n",
              "    cancel.onclick = () => {\n",
              "      resolve(null);\n",
              "    };\n",
              "  });\n",
              "\n",
              "  // Wait for the user to pick the files.\n",
              "  const files = yield {\n",
              "    promise: Promise.race([pickedPromise, cancelPromise]),\n",
              "    response: {\n",
              "      action: 'starting',\n",
              "    }\n",
              "  };\n",
              "\n",
              "  cancel.remove();\n",
              "\n",
              "  // Disable the input element since further picks are not allowed.\n",
              "  inputElement.disabled = true;\n",
              "\n",
              "  if (!files) {\n",
              "    return {\n",
              "      response: {\n",
              "        action: 'complete',\n",
              "      }\n",
              "    };\n",
              "  }\n",
              "\n",
              "  for (const file of files) {\n",
              "    const li = document.createElement('li');\n",
              "    li.append(span(file.name, {fontWeight: 'bold'}));\n",
              "    li.append(span(\n",
              "        `(${file.type || 'n/a'}) - ${file.size} bytes, ` +\n",
              "        `last modified: ${\n",
              "            file.lastModifiedDate ? file.lastModifiedDate.toLocaleDateString() :\n",
              "                                    'n/a'} - `));\n",
              "    const percent = span('0% done');\n",
              "    li.appendChild(percent);\n",
              "\n",
              "    outputElement.appendChild(li);\n",
              "\n",
              "    const fileDataPromise = new Promise((resolve) => {\n",
              "      const reader = new FileReader();\n",
              "      reader.onload = (e) => {\n",
              "        resolve(e.target.result);\n",
              "      };\n",
              "      reader.readAsArrayBuffer(file);\n",
              "    });\n",
              "    // Wait for the data to be ready.\n",
              "    let fileData = yield {\n",
              "      promise: fileDataPromise,\n",
              "      response: {\n",
              "        action: 'continue',\n",
              "      }\n",
              "    };\n",
              "\n",
              "    // Use a chunked sending to avoid message size limits. See b/62115660.\n",
              "    let position = 0;\n",
              "    do {\n",
              "      const length = Math.min(fileData.byteLength - position, MAX_PAYLOAD_SIZE);\n",
              "      const chunk = new Uint8Array(fileData, position, length);\n",
              "      position += length;\n",
              "\n",
              "      const base64 = btoa(String.fromCharCode.apply(null, chunk));\n",
              "      yield {\n",
              "        response: {\n",
              "          action: 'append',\n",
              "          file: file.name,\n",
              "          data: base64,\n",
              "        },\n",
              "      };\n",
              "\n",
              "      let percentDone = fileData.byteLength === 0 ?\n",
              "          100 :\n",
              "          Math.round((position / fileData.byteLength) * 100);\n",
              "      percent.textContent = `${percentDone}% done`;\n",
              "\n",
              "    } while (position < fileData.byteLength);\n",
              "  }\n",
              "\n",
              "  // All done.\n",
              "  yield {\n",
              "    response: {\n",
              "      action: 'complete',\n",
              "    }\n",
              "  };\n",
              "}\n",
              "\n",
              "scope.google = scope.google || {};\n",
              "scope.google.colab = scope.google.colab || {};\n",
              "scope.google.colab._files = {\n",
              "  _uploadFiles,\n",
              "  _uploadFilesContinue,\n",
              "};\n",
              "})(self);\n",
              "</script> "
            ]
          },
          "metadata": {}
        },
        {
          "output_type": "stream",
          "name": "stdout",
          "text": [
            "Saving Sales-Call-example-1.mp3 to Sales-Call-example-1 (4).mp3\n",
            "===== Call Quality Report =====\n",
            "Talk Ratio: {'SPEAKER_0': 100.0}\n",
            "Questions Asked: 5\n",
            "Longest Monologue (s): 11.0\n",
            "Sentiment: Positive\n",
            "Actionable Insight: Reduce monologue; let the customer speak more.\n",
            "Roles: {'Sales Rep': 'SPEAKER_0', 'Customer': 'Unknown'}\n"
          ]
        }
      ],
      "source": [
        "# 🔧 Install required libraries\n",
        "!pip install faster-whisper pydub noisereduce torch soundfile nltk -q\n",
        "!pip install vaderSentiment -q\n",
        "\n",
        "# 🔧 Download NLTK resources\n",
        "import nltk\n",
        "nltk.download(\"punkt\")\n",
        "\n",
        "# Step 1: Preprocess Audio (Noise Reduction + Resample to 16kHz mono)\n",
        "import noisereduce as nr\n",
        "import soundfile as sf\n",
        "import numpy as np\n",
        "from scipy.signal import resample_poly\n",
        "\n",
        "def preprocess_audio(input_path, output_path=\"cleaned.wav\"):\n",
        "    audio, sr = sf.read(input_path)\n",
        "    if audio.ndim > 1:  # stereo to mono\n",
        "        audio = np.mean(audio, axis=1)\n",
        "    # Downsample to 16kHz for faster processing\n",
        "    if sr != 16000:\n",
        "        audio = resample_poly(audio, 16000, sr)\n",
        "        sr = 16000\n",
        "    reduced = nr.reduce_noise(y=audio, sr=sr)\n",
        "    sf.write(output_path, reduced, sr)\n",
        "    return output_path\n",
        "\n",
        "# Step 2: Transcribe with Whisper\n",
        "from faster_whisper import WhisperModel\n",
        "\n",
        "asr_model = WhisperModel(\"tiny\", device=\"cpu\")\n",
        "\n",
        "def transcribe(audio_path):\n",
        "    segments, info = asr_model.transcribe(audio_path, beam_size=1)\n",
        "    transcript = []\n",
        "    for seg in segments:\n",
        "        transcript.append({\n",
        "            \"start\": seg.start, \"end\": seg.end, \"text\": seg.text.strip()\n",
        "        })\n",
        "    return transcript\n",
        "\n",
        "# Step 3: Simple Speaker Turn Detection\n",
        "# Heuristic: alternate speakers when silence >1.5s\n",
        "def assign_speakers(transcript, pause_threshold=1.5):\n",
        "    merged = []\n",
        "    current_speaker = \"SPEAKER_0\"\n",
        "    prev_end = None\n",
        "    for t in transcript:\n",
        "        if prev_end is not None and (t[\"start\"] - prev_end) > pause_threshold:\n",
        "            current_speaker = \"SPEAKER_1\" if current_speaker == \"SPEAKER_0\" else \"SPEAKER_0\"\n",
        "        merged.append({**t, \"speaker\": current_speaker})\n",
        "        prev_end = t[\"end\"]\n",
        "    return merged\n",
        "\n",
        "# Step 4: Analyze Call\n",
        "from vaderSentiment.vaderSentiment import SentimentIntensityAnalyzer\n",
        "\n",
        "def analyze_call(merged):\n",
        "    analyzer = SentimentIntensityAnalyzer()\n",
        "    results = {}\n",
        "\n",
        "    # --- Talk-time ratio ---\n",
        "    durations = {}\n",
        "    for m in merged:\n",
        "        dur = m[\"end\"] - m[\"start\"]\n",
        "        durations[m[\"speaker\"]] = durations.get(m[\"speaker\"], 0) + dur\n",
        "    total = sum(durations.values()) if durations else 1\n",
        "    talk_ratio = {spk: round(100*dur/total,1) for spk,dur in durations.items()}\n",
        "\n",
        "    # --- Number of questions ---\n",
        "    num_questions = sum(1 for m in merged if \"?\" in m[\"text\"])\n",
        "\n",
        "    # --- Longest monologue ---\n",
        "    longest = max([m[\"end\"]-m[\"start\"] for m in merged]) if merged else 0\n",
        "\n",
        "    # --- Sentiment ---\n",
        "    all_text = \" \".join([m[\"text\"] for m in merged])\n",
        "    score = analyzer.polarity_scores(all_text)\n",
        "    if score[\"compound\"] > 0.2:\n",
        "        sentiment = \"Positive\"\n",
        "    elif score[\"compound\"] < -0.2:\n",
        "        sentiment = \"Negative\"\n",
        "    else:\n",
        "        sentiment = \"Neutral\"\n",
        "\n",
        "    # --- Actionable insight ---\n",
        "    if num_questions < 3:\n",
        "        insight = \"Ask more discovery questions to engage the customer.\"\n",
        "    elif talk_ratio and max(talk_ratio.values()) > 70:\n",
        "        insight = \"Reduce monologue; let the customer speak more.\"\n",
        "    else:\n",
        "        insight = \"Good balance of engagement and listening.\"\n",
        "\n",
        "    results.update({\n",
        "        \"Talk Ratio\": talk_ratio,\n",
        "        \"Questions Asked\": num_questions,\n",
        "        \"Longest Monologue (s)\": round(longest,2),\n",
        "        \"Sentiment\": sentiment,\n",
        "        \"Actionable Insight\": insight\n",
        "    })\n",
        "    return results\n",
        "\n",
        "# Step 5: Identify Sales Rep vs Customer (Heuristic)\n",
        "def identify_roles(analysis):\n",
        "    if not analysis[\"Talk Ratio\"]:\n",
        "        return {}\n",
        "    rep = max(analysis[\"Talk Ratio\"], key=analysis[\"Talk Ratio\"].get)\n",
        "    customer = [s for s in analysis[\"Talk Ratio\"].keys() if s != rep][0] if len(analysis[\"Talk Ratio\"]) > 1 else \"Unknown\"\n",
        "    return {\"Sales Rep\": rep, \"Customer\": customer}\n",
        "\n",
        "# Step 6: Run Everything\n",
        "from google.colab import files\n",
        "uploaded = files.upload()\n",
        "file_path = list(uploaded.keys())[0]\n",
        "\n",
        "# --- Run pipeline ---\n",
        "cleaned = preprocess_audio(file_path)\n",
        "transcript = transcribe(cleaned)\n",
        "merged = assign_speakers(transcript)\n",
        "analysis = analyze_call(merged)\n",
        "roles = identify_roles(analysis)\n",
        "\n",
        "print(\"===== Call Quality Report =====\")\n",
        "for k,v in analysis.items():\n",
        "    print(f\"{k}: {v}\")\n",
        "print(\"Roles:\", roles)\n",
        "\n"
      ]
    },
    {
      "cell_type": "code",
      "source": [
        "!pip install fastapi uvicorn pyngrok python-multipart -q\n",
        "!pip install faster-whisper pydub noisereduce torch soundfile nltk vaderSentiment -q\n",
        "\n",
        "import nltk\n",
        "nltk.download(\"punkt\")\n"
      ],
      "metadata": {
        "id": "dpBUDtSHnfhk",
        "outputId": "05beecae-b222-4b7a-c71d-c48ae3988683",
        "colab": {
          "base_uri": "https://localhost:8080/"
        }
      },
      "execution_count": 1,
      "outputs": [
        {
          "output_type": "stream",
          "name": "stdout",
          "text": [
            "\u001b[?25l   \u001b[90m━━━━━━━━━━━━━━━━━━━━━━━━━━━━━━━━━━━━━━━━\u001b[0m \u001b[32m0.0/1.1 MB\u001b[0m \u001b[31m?\u001b[0m eta \u001b[36m-:--:--\u001b[0m\r\u001b[2K   \u001b[91m━━━━━━━━━━━━━━━━━━━━━\u001b[0m\u001b[90m╺\u001b[0m\u001b[90m━━━━━━━━━━━━━━━━━━\u001b[0m \u001b[32m0.6/1.1 MB\u001b[0m \u001b[31m18.7 MB/s\u001b[0m eta \u001b[36m0:00:01\u001b[0m\r\u001b[2K   \u001b[90m━━━━━━━━━━━━━━━━━━━━━━━━━━━━━━━━━━━━━━━━\u001b[0m \u001b[32m1.1/1.1 MB\u001b[0m \u001b[31m18.3 MB/s\u001b[0m eta \u001b[36m0:00:00\u001b[0m\n",
            "\u001b[2K   \u001b[90m━━━━━━━━━━━━━━━━━━━━━━━━━━━━━━━━━━━━━━━━\u001b[0m \u001b[32m126.0/126.0 kB\u001b[0m \u001b[31m8.8 MB/s\u001b[0m eta \u001b[36m0:00:00\u001b[0m\n",
            "\u001b[2K   \u001b[90m━━━━━━━━━━━━━━━━━━━━━━━━━━━━━━━━━━━━━━━━\u001b[0m \u001b[32m40.0/40.0 MB\u001b[0m \u001b[31m17.6 MB/s\u001b[0m eta \u001b[36m0:00:00\u001b[0m\n",
            "\u001b[2K   \u001b[90m━━━━━━━━━━━━━━━━━━━━━━━━━━━━━━━━━━━━━━━━\u001b[0m \u001b[32m38.8/38.8 MB\u001b[0m \u001b[31m15.6 MB/s\u001b[0m eta \u001b[36m0:00:00\u001b[0m\n",
            "\u001b[2K   \u001b[90m━━━━━━━━━━━━━━━━━━━━━━━━━━━━━━━━━━━━━━━━\u001b[0m \u001b[32m16.5/16.5 MB\u001b[0m \u001b[31m63.6 MB/s\u001b[0m eta \u001b[36m0:00:00\u001b[0m\n",
            "\u001b[2K   \u001b[90m━━━━━━━━━━━━━━━━━━━━━━━━━━━━━━━━━━━━━━━━\u001b[0m \u001b[32m46.0/46.0 kB\u001b[0m \u001b[31m2.3 MB/s\u001b[0m eta \u001b[36m0:00:00\u001b[0m\n",
            "\u001b[2K   \u001b[90m━━━━━━━━━━━━━━━━━━━━━━━━━━━━━━━━━━━━━━━━\u001b[0m \u001b[32m86.8/86.8 kB\u001b[0m \u001b[31m5.2 MB/s\u001b[0m eta \u001b[36m0:00:00\u001b[0m\n",
            "\u001b[?25h"
          ]
        },
        {
          "output_type": "stream",
          "name": "stderr",
          "text": [
            "[nltk_data] Downloading package punkt to /root/nltk_data...\n",
            "[nltk_data]   Unzipping tokenizers/punkt.zip.\n"
          ]
        },
        {
          "output_type": "execute_result",
          "data": {
            "text/plain": [
              "True"
            ]
          },
          "metadata": {},
          "execution_count": 1
        }
      ]
    },
    {
      "cell_type": "code",
      "source": [
        "!ngrok config add-authtoken 31yczibPNHDRyoqFVPjbd0CvZiN_4LWcojQXNdXsrnymipMRV\n"
      ],
      "metadata": {
        "id": "g8MJ6DlMpbql",
        "outputId": "e6426720-b7f5-40d8-cce3-0b5fc0bb4b1c",
        "colab": {
          "base_uri": "https://localhost:8080/"
        }
      },
      "execution_count": 4,
      "outputs": [
        {
          "output_type": "stream",
          "name": "stdout",
          "text": [
            "Authtoken saved to configuration file: /root/.config/ngrok/ngrok.yml\n"
          ]
        }
      ]
    },
    {
      "cell_type": "code",
      "source": [
        "public_url = ngrok.connect(8000)\n",
        "print(public_url)"
      ],
      "metadata": {
        "id": "81zKuLxbpjtF",
        "outputId": "e27a359b-7d20-4498-9b17-d3943aa59852",
        "colab": {
          "base_uri": "https://localhost:8080/"
        }
      },
      "execution_count": 5,
      "outputs": [
        {
          "output_type": "stream",
          "name": "stdout",
          "text": [
            "NgrokTunnel: \"https://d4b2c983fffc.ngrok-free.app\" -> \"http://localhost:8000\"\n"
          ]
        }
      ]
    }
  ]
}